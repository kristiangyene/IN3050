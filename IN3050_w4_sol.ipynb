{
 "cells": [
  {
   "cell_type": "markdown",
   "metadata": {},
   "source": [
    "# IN3050/IN4050 - Week 4"
   ]
  },
  {
   "cell_type": "markdown",
   "metadata": {},
   "source": [
    "## Preserving Diversity\n",
    "\n",
    "### 1. Why do we want to preserve diversity?"
   ]
  },
  {
   "cell_type": "markdown",
   "metadata": {},
   "source": [
    "Often one might want to identify several possible peaks as different peaks may be good ways to solve the problem. There might be more than one good solution to a problem and by preserving the diversity you will find more possibly good solutions to the problem. Therefore, we need methods to preserve diversity, instead of converging to one peak. Converging to one peak does not mean that we reach the global optima, so preserving diversity and having more solutions might find the global optima. One peak will also be weak if the fitness function is uncertain and changes, so preserving diversity is important."
   ]
  },
  {
   "cell_type": "markdown",
   "metadata": {},
   "source": [
    "### 2. What are the main differences between explicit and implicit approaches?"
   ]
  },
  {
   "cell_type": "markdown",
   "metadata": {},
   "source": [
    "Explicit approaches usually make the individuals that are similar compete for fitness by explicitly changing the probability that they are selected by selection operators. Explicit methods include fitness sharing and crowding. Implicit approaches usually restrict the population into groups to try to preserve the diversity between the groups, but do not explicitly guarantee that solutions that are similar to others are given a disadvantage during selection. Implicit methods include automatic speciation and geographical separation."
   ]
  },
  {
   "cell_type": "markdown",
   "metadata": {},
   "source": [
    "## Pareto Optimality\n",
    "\n",
    "![front_points_1 \\label{front_points_1}](front_points_1.png) <center>Figure 1 a</center>\n",
    "![front_points_2](front_points_2.png) <center>Figure 1 b</center>\n",
    "\n",
    "### 3. For figure a and b above, find the Pareto optimal set when\n",
    "* Minimizing both x and y\n",
    "* Minimizing x, maximizing y\n",
    "* Maximizing x, minimizing y\n",
    "* Maximizing both x and y"
   ]
  },
  {
   "cell_type": "markdown",
   "metadata": {},
   "source": [
    "Solution:\n",
    "\n",
    "|          &nbsp;      |     a     |      b      |\n",
    "|:--------------------:|:---------:|:-----------:|\n",
    "| min x, min y | {1,2,5,7} |     {1}     |\n",
    "| min x, max y |   {1,3}   |  {1,2,3,4}  |\n",
    "| max x, min y |   {7,8}   | {1,2,5,7,8} |\n",
    "| max x, max y | {3,4,6,8} |   {4,6,8}   |"
   ]
  },
  {
   "cell_type": "markdown",
   "metadata": {},
   "source": [
    "## Hybrid Algorithms\n",
    "### 4. Why can hybrid algorithms make it harder to maintain diversity"
   ]
  },
  {
   "cell_type": "markdown",
   "metadata": {},
   "source": [
    "Solution: \n",
    "\n",
    "Hybrid initialization can lead to very uneven initial coverage of the search space, which might hamper the search. Hybrid crossover and mutation, as well as (Lamarckian) local search before evaluation will lead solutions towards clusters near (local) optima."
   ]
  },
  {
   "cell_type": "markdown",
   "metadata": {},
   "source": [
    "## Applying Evolutionary Algorithms\n",
    "\n",
    "### 5. Drone Example\n",
    "Consider the following problem of designing a drone body with the goal of flying as fast as possible. Down below is a simple example of the drone body and some characteristics of the body that could be used. We want to solve this using an Evolutionary Algorithm. Write down some ways of solving the following points of the problem. (No code needed, just explain your choices)\n",
    "\n",
    "1. Fitness function for evaluating?\n",
    "2. What representation to use?\n",
    "3. Mutation, Crossovers\n",
    "4. Parent selection and survivor selection\n",
    "5. End condition\n",
    "![drone_problem](drone.png)"
   ]
  },
  {
   "cell_type": "markdown",
   "metadata": {},
   "source": [
    "**This is only one suggestion to a solution. You can also discuss your solutions with your classmates and in the group lessons** \n",
    "1. The fitness function should be done in a simulator so we don't need to construct many thousands different drones. Do calculate the fitness we could let the drone fly for one minute and measure the distance it flies. The distance in meters would then be the fitness function.\n",
    "\n",
    "2. We could use real valued representation. Each characteristic of the body would have a real value representing the length or width of the part.\n",
    "\n",
    "3. \n",
    "    * For mutation operator we could either use uniform mutation or an nonuniform mutation. We could choose to use nonuniform mutation because it would mean the amount of change will lie in the range of (-$\\sigma$ to +$\\sigma$), leading to more control over the amount of change at each mutation.\n",
    "    * For crossover we can use a simple arithmetic crossover. Pick a gene (k) and after this gene mix the values of the parents. This should provide a simple solution but also get some aspect of both parents in the kids.\n",
    "    \n",
    "4. \n",
    "    * For parent selection we could choose Tournament selection. This might lead to less premature convergence than fitness proportionate selection it's tuned correctly. \n",
    "    * For the survivor selection I will chose a ($\\mu, \\lambda$)-selection. While we do not keep the best solution, the children will still be a mix of the highly fit parents and hopefully converge.\n",
    "\n",
    "5. As a end condition, we can decide to stop the algorithm when fitness does not improve over a certain number of generations."
   ]
  }
 ],
 "metadata": {
  "kernelspec": {
   "display_name": "Python 3",
   "language": "python",
   "name": "python3"
  },
  "language_info": {
   "codemirror_mode": {
    "name": "ipython",
    "version": 3
   },
   "file_extension": ".py",
   "mimetype": "text/x-python",
   "name": "python",
   "nbconvert_exporter": "python",
   "pygments_lexer": "ipython3",
   "version": "3.7.2"
  }
 },
 "nbformat": 4,
 "nbformat_minor": 2
}
