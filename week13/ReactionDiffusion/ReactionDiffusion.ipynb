{
 "cells": [
  {
   "cell_type": "markdown",
   "metadata": {},
   "source": [
    "# Reaction-diffusion model\n",
    "This exercise will walk through a simple implementation of a reaction-diffusion model. This model is based on Alan Turing's proposal on how patterns in biology can form through the diffusion of chemicals he called *morphogens*. Here, we will implement a popular algorithm that simulates this type of chemical reaction which is called the *Gray-Scott* Algorithm. \n",
    "\n",
    "This algorithm is not an optimization strategy, rather, it is a type of indirect encoding where a few basic rules lead to the emergence of complex patterns. \n",
    "\n",
    "To create the model we will use the *pygame* package as our visualization tool. We use pygame instead of matplotlib to speed up the visualization process a bit. This implementation of the Gray-Scott algorithm is by no means computationally efficient as the purpose of this exercise is to allow you to understand the algorithm. To increase the performance of the algorithm, one could look at implementations in *Shader Toy* or *processing*. To make a more efficient algorithm in python would likely make use of efficient matrix transformations in numpy instead of the OOP manner which this example shows.     \n",
    "\n"
   ]
  },
  {
   "cell_type": "markdown",
   "metadata": {},
   "source": [
    "## Libraries\n"
   ]
  },
  {
   "cell_type": "code",
   "execution_count": null,
   "metadata": {},
   "outputs": [],
   "source": [
    "import numpy as np\n",
    "import pygame\n",
    "import copy\n",
    "import random\n",
    "import math\n",
    "\n",
    "from IPython.display import Image "
   ]
  },
  {
   "cell_type": "markdown",
   "metadata": {},
   "source": [
    "### Introduction\n",
    "\n",
    "For this algorithm we are going to use the aforementioned *Gray-Scott* algorithm. This algorithm assumes that two chemicals will influence the expression of one another in a dynamic way. The equations and the explanation of the symbols can be seen below. Here we use two chemicals that we will refer to as chemical A and chemical B. A will be a molecule that will be expressed regardless of the other chemical. In the presence of B, A can be converted to B via a *reaction*. This reaction decreases the amount of A and increases the amount of B. B will be activated by the presence of itself plus chemical A.  \n",
    "Note that the constants Da and Db can be altered to change the emerging patterns. These constants are sensitive so it can be that when you change them nothing will happen. "
   ]
  },
  {
   "cell_type": "code",
   "execution_count": null,
   "metadata": {},
   "outputs": [],
   "source": [
    "Image(\"formulas.png\") # from Karl Sims' tutorial website"
   ]
  },
  {
   "cell_type": "markdown",
   "metadata": {},
   "source": [
    "## Setting up global variables\n",
    "From the formula above we can define the constants Da, Db, the laplace transform matrix, the 'feed' and the 'kill' rate. Changing these values will give you different expressions. "
   ]
  },
  {
   "cell_type": "code",
   "execution_count": null,
   "metadata": {},
   "outputs": [],
   "source": [
    "# Diffusion rates for A and B\n",
    "dA = 1.0\n",
    "dB = 0.2\n",
    "feed = 0.065\n",
    "kill = 0.062\n"
   ]
  },
  {
   "cell_type": "code",
   "execution_count": null,
   "metadata": {},
   "outputs": [],
   "source": [
    "# This is the matrix used by the Laplacian transform function\n",
    "laplace_matrix = np.array([[0.05, 0.2,0.05],\n",
    "\t\t\t\t\t  [0.2, -1,0.2],\n",
    "\t\t\t\t\t  [0.05,0.2,0.05]])\n",
    ""
   ]
  },
  {
   "cell_type": "markdown",
   "metadata": {},
   "source": [
    "Some more variables will be usefull to alter some general settings of our simulation. "
   ]
  },
  {
   "cell_type": "code",
   "execution_count": null,
   "metadata": {},
   "outputs": [],
   "source": [
    "# speed variable to modify speed of diffusion\n",
    "speed = 0.5 # should not be set to more than 1.0\n",
    "# scale variable to change the granularity of the output\n",
    "scale = 10\n",
    "# The pygame display size (in number of pixels)\n",
    "width = 600\n",
    "height = 600\n",
    "# width*height/scale will equal the number of cells we simulate"
   ]
  },
  {
   "cell_type": "markdown",
   "metadata": {},
   "source": [
    "## Laplace transform matrix function\n",
    "\n",
    "The Laplace transform function takes in the coordinates of a specific cell, and adjusts returns the gradient sum of either chemical A or B. The function requires to look at neighbouring cells and here I decided to pass the cells along as an argument of the function. I added an argument called *adjustA*, which is a bit silly, but this simply tells the function whether it needs to look at chemical A or B. "
   ]
  },
  {
   "cell_type": "code",
   "execution_count": null,
   "metadata": {},
   "outputs": [],
   "source": [
    "def laplace(cells, x, y, adjustA = True):\n",
    "    sum = 0\t\n",
    "    for i in range(-1,2):\n",
    "        for j in range(-1,2):\n",
    "            x_= x+i\n",
    "            y_ = y+j\n",
    "            if x_ >= len(cells):\n",
    "                x_ = 0\n",
    "            if y_ >= len(cells):\n",
    "                y_ = 0\n",
    "            if (adjustA):\n",
    "                sum += cells[x_][y_].A * laplace_matrix[i+1][j+1]\n",
    "            else:\n",
    "                sum += cells[x_][y_].B * laplace_matrix[i+1][j+1]\n",
    "    return sum"
   ]
  },
  {
   "cell_type": "markdown",
   "metadata": {},
   "source": [
    "### Simple cell object\n",
    "\n",
    "The only parameters our cells need to have are the concentrations of chemical A and B. When we create a new cell instance, we set the amount of A to 1, and B to 0. "
   ]
  },
  {
   "cell_type": "code",
   "execution_count": null,
   "metadata": {},
   "outputs": [],
   "source": [
    "class Cell:\n",
    "    def __init__(self):\n",
    "        self.A = 1\n",
    "        self.B = 0"
   ]
  },
  {
   "cell_type": "markdown",
   "metadata": {},
   "source": [
    "### Creating cells through a reset function\n",
    "\n",
    "To create all the cells of this model, we create a two dimensional array cells. The number of cells we create is based on the size of the pygame window and the scale parameter we set as a general parameter above. We can make sure to call this reset function later. Since all cells start of with a value of 1. for chemical A, we also need to populate some cells with chemical B. Below two if statements ensure that a squared patch in the middle of the screen will be populated with chemical B. To randomly add chemical B to cells, set the optional reset argument *randomly_assign_b* to *True*. "
   ]
  },
  {
   "cell_type": "code",
   "execution_count": null,
   "metadata": {},
   "outputs": [],
   "source": [
    "def reset(width, height, scale, randomize = False, randomly_assign_b = False):\n",
    "    cells = []\n",
    "    for i in range(0,width,scale):\n",
    "        row = []\n",
    "        for j in range(0,height,scale):\n",
    "            c= Cell()\n",
    "            if(randomly_assign_b):\n",
    "                if (random.uniform(0,1) < 0.1):\n",
    "                   c.B = 1\n",
    "            else:\n",
    "                if (i > width/2-5* scale) and (i < width/2+5* scale):\n",
    "                \tif (j > height/2-5* scale) and (j <height/2+5* scale):\n",
    "                \t\tc.B = 1.0\n",
    "            row.append(c)\n",
    "        cells.append(row)\n",
    "    return cells"
   ]
  },
  {
   "cell_type": "markdown",
   "metadata": {},
   "source": [
    "### Function to display cells\n",
    "To display the cells, the colors are adjusted based on the amount of chemical A and B present. We can simply draw cells by calling the *pygame.draw.rect* function. In addition, to see which chemicals are present, we color a cell red based on the amount of chemical A, and we color the cell blue based on the amount of chemical B.  "
   ]
  },
  {
   "cell_type": "code",
   "execution_count": null,
   "metadata": {},
   "outputs": [],
   "source": [
    "def display_cells(screen, cells, scale):\n",
    "\tfor i,cell_row in enumerate(cells):\n",
    "\t\tfor j,c in enumerate(cell_row):\n",
    "\t\t\tcol = [0,0,0]\n",
    "\t\t\tif (c.A > 0):\n",
    "\t\t\t\tif (c.A < 1.0):\n",
    "\t\t\t\t\tcol[0] = int(c.A * 255)\n",
    "\t\t\t\telse:\n",
    "\t\t\t\t   col[0] = 255\n",
    "\t\t\tif (c.B > 0):\n",
    "\t\t\t\tif (c.B < 1.0):\n",
    "\t\t\t\t\tcol[2] = int(c.B * 255)\n",
    "\t\t\t\telse:\n",
    "\t\t\t\t   col[2] = 255\n",
    "\t\t\tcolor = col\n",
    "\t\t\tpygame.draw.rect(screen, color,[i * scale , j*scale, int(scale), int(scale)])\n",
    "\n",
    ""
   ]
  },
  {
   "cell_type": "markdown",
   "metadata": {},
   "source": [
    "### Function for updating the cells\n",
    "\n",
    "To update the cells, the we simply loop over all of the cells stored in the 2D array, and alter their chemical A and B based on the equations. "
   ]
  },
  {
   "cell_type": "code",
   "execution_count": null,
   "metadata": {},
   "outputs": [],
   "source": [
    "def update_cells(cells):\n",
    "\t# The values of the chemicals need to be deep copied since we don't want the values of A and B that are changed, to influence how the next cell updates. This shows you a performance limitation of this OOP implementation of the Gray-Scott algorithm.\n",
    "\tcell_buffer = copy.deepcopy(cells)\n",
    "\tfor i,cell_row in enumerate(cells):\n",
    "\t\tfor j,c in enumerate(cell_row):\n",
    "\t\t\ta = c.A # get value chemical A\n",
    "\t\t\tb = c.B # get value chemical B\n",
    "\t\t\t# The equations\n",
    "\t\t\tc.A = a + (dA*laplace(cell_buffer, i,j, adjustA = True) - (a * b * b) + (feed*(1-a)))*speed *  random.uniform(0.9,1.1)\n",
    "\t\t\tc.B = b + (dB*laplace(cell_buffer, i,j, adjustA=False) + (a * b * b) - (kill+feed)*b)*speed *  random.uniform(0.9,1.1)\n",
    "\n",
    "\tcells = cell_buffer"
   ]
  },
  {
   "cell_type": "markdown",
   "metadata": {},
   "source": [
    "### The main function"
   ]
  },
  {
   "cell_type": "code",
   "execution_count": null,
   "metadata": {},
   "outputs": [],
   "source": [
    "def main():\n",
    "    # Create the 2D array with cells. \n",
    "    cells = reset(width,height, scale)\n",
    "    screen = pygame.display.set_mode((width, height))\n",
    "    pygame.display.set_caption('Ultisequencer')\n",
    "    background_color = (255,255,255)\n",
    "    running = True\n",
    "    while running:\n",
    "        screen.fill(background_color)\n",
    "        display_cells(screen, cells, scale)\n",
    "        update_cells(cells)\n",
    "        pygame.display.update()\n",
    "        for event in pygame.event.get():\n",
    "            if event.type == pygame.KEYDOWN:\n",
    "                if event.key == pygame.K_UP:\n",
    "                    interval+=1\n",
    "                    print(\"interval is now : \", interval)\n",
    "                elif event.key == pygame.K_DOWN:\n",
    "                    interval-=1\n",
    "                    print(\"interval is now : \", interval)\n",
    "                if event.key == pygame.K_r:\n",
    "                    cells = reset(width,height, scale)"
   ]
  },
  {
   "cell_type": "code",
   "execution_count": null,
   "metadata": {},
   "outputs": [],
   "source": [
    "main()"
   ]
  },
  {
   "cell_type": "markdown",
   "metadata": {},
   "source": [
    "This exercise demonstrated a naive implementation of a reaction diffusion model. Can you think of any obvious ways to improve this model to increase the performance?"
   ]
  }
 ],
 "metadata": {
  "language_info": {
   "name": "python",
   "codemirror_mode": {
    "name": "ipython",
    "version": 3
   },
   "version": "3.6.4-final"
  },
  "orig_nbformat": 2,
  "file_extension": ".py",
  "mimetype": "text/x-python",
  "name": "python",
  "npconvert_exporter": "python",
  "pygments_lexer": "ipython3",
  "version": 3,
  "kernelspec": {
   "name": "python36432bitec457a294f9648d7b4b468483e61d6f5",
   "display_name": "Python 3.6.4 32-bit"
  }
 },
 "nbformat": 4,
 "nbformat_minor": 2
}